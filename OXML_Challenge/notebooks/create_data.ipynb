{
 "cells": [
  {
   "cell_type": "code",
   "execution_count": 8,
   "metadata": {},
   "outputs": [],
   "source": [
    "import os\n",
    "import pandas as pd\n",
    "import numpy as np\n",
    "import shutil\n",
    "from PIL import Image"
   ]
  },
  {
   "cell_type": "markdown",
   "metadata": {},
   "source": [
    "## Inspecting the Data"
   ]
  },
  {
   "cell_type": "code",
   "execution_count": 3,
   "metadata": {},
   "outputs": [
    {
     "name": "stdout",
     "output_type": "stream",
     "text": [
      "Non-Detectable    36\n",
      "Benign            14\n",
      "Malignant         12\n",
      "Name: label, dtype: int64\n"
     ]
    },
    {
     "data": {
      "text/html": [
       "<div>\n",
       "<style scoped>\n",
       "    .dataframe tbody tr th:only-of-type {\n",
       "        vertical-align: middle;\n",
       "    }\n",
       "\n",
       "    .dataframe tbody tr th {\n",
       "        vertical-align: top;\n",
       "    }\n",
       "\n",
       "    .dataframe thead th {\n",
       "        text-align: right;\n",
       "    }\n",
       "</style>\n",
       "<table border=\"1\" class=\"dataframe\">\n",
       "  <thead>\n",
       "    <tr style=\"text-align: right;\">\n",
       "      <th></th>\n",
       "      <th>id</th>\n",
       "      <th>malignant</th>\n",
       "      <th>label</th>\n",
       "    </tr>\n",
       "  </thead>\n",
       "  <tbody>\n",
       "    <tr>\n",
       "      <th>0</th>\n",
       "      <td>441</td>\n",
       "      <td>-1</td>\n",
       "      <td>Non-Detectable</td>\n",
       "    </tr>\n",
       "    <tr>\n",
       "      <th>1</th>\n",
       "      <td>33284</td>\n",
       "      <td>-1</td>\n",
       "      <td>Non-Detectable</td>\n",
       "    </tr>\n",
       "    <tr>\n",
       "      <th>2</th>\n",
       "      <td>38771</td>\n",
       "      <td>1</td>\n",
       "      <td>Malignant</td>\n",
       "    </tr>\n",
       "    <tr>\n",
       "      <th>3</th>\n",
       "      <td>46784</td>\n",
       "      <td>-1</td>\n",
       "      <td>Non-Detectable</td>\n",
       "    </tr>\n",
       "    <tr>\n",
       "      <th>4</th>\n",
       "      <td>57613</td>\n",
       "      <td>-1</td>\n",
       "      <td>Non-Detectable</td>\n",
       "    </tr>\n",
       "  </tbody>\n",
       "</table>\n",
       "</div>"
      ],
      "text/plain": [
       "      id  malignant           label\n",
       "0    441         -1  Non-Detectable\n",
       "1  33284         -1  Non-Detectable\n",
       "2  38771          1       Malignant\n",
       "3  46784         -1  Non-Detectable\n",
       "4  57613         -1  Non-Detectable"
      ]
     },
     "execution_count": 3,
     "metadata": {},
     "output_type": "execute_result"
    }
   ],
   "source": [
    "ROOT_PATH = \"/home/co-dutt1/rds/hpc-work/ALL_DATASETS/OXML\"\n",
    "\n",
    "df = pd.read_csv(os.path.join(ROOT_PATH, \"CSVs\", \"labels.csv\"))\n",
    "\n",
    "#Map labels pandas\n",
    "df['label'] = df['malignant'].map({-1: \"Non-Detectable\", 0: \"Benign\", 1: \"Malignant\"})\n",
    "print(df['label'].value_counts())\n",
    "df.head()"
   ]
  },
  {
   "cell_type": "code",
   "execution_count": 5,
   "metadata": {},
   "outputs": [
    {
     "name": "stdout",
     "output_type": "stream",
     "text": [
      "39\n",
      "13\n",
      "10\n"
     ]
    }
   ],
   "source": [
    "## Make train, test, val splits and folders\n",
    "\n",
    "from sklearn.model_selection import train_test_split\n",
    "\n",
    "df['img_path'] = df['id'].apply(lambda x: os.path.join(ROOT_PATH, \"images\", \"img_\"+str(x)+\".png\"))\n",
    "\n",
    "train_df, test_df = train_test_split(df, test_size=0.2, random_state=42, stratify=df['label'])\n",
    "train_df, val_df = train_test_split(train_df, test_size=0.2, random_state=42, stratify=train_df['label'])\n",
    "\n",
    "# print(train_df['label'].value_counts()), print(test_df['label'].value_counts()), print(val_df['label'].value_counts())\n",
    "\n",
    "print(len(train_df)), print(len(test_df)), print(len(val_df))\n",
    "\n",
    "train_df = train_df.reset_index(drop=True)\n",
    "test_df = test_df.reset_index(drop=True)\n",
    "val_df = val_df.reset_index(drop=True)\n",
    "\n",
    "train_df.to_csv(os.path.join(ROOT_PATH, \"CSVs\", \"train.csv\"), index=False)\n",
    "test_df.to_csv(os.path.join(ROOT_PATH, \"CSVs\", \"test.csv\"), index=False)\n",
    "val_df.to_csv(os.path.join(ROOT_PATH, \"CSVs\", \"val.csv\"), index=False)\n"
   ]
  },
  {
   "cell_type": "code",
   "execution_count": 6,
   "metadata": {},
   "outputs": [
    {
     "data": {
      "text/plain": [
       "(368, 496)"
      ]
     },
     "execution_count": 6,
     "metadata": {},
     "output_type": "execute_result"
    }
   ],
   "source": [
    "from PIL import Image\n",
    "\n",
    "img = Image.open(train_df['img_path'].iloc[4])\n",
    "img.size"
   ]
  },
  {
   "cell_type": "code",
   "execution_count": null,
   "metadata": {},
   "outputs": [],
   "source": [
    "# Creating Folders\n",
    "\n",
    "\n",
    "# Create a new directory\n",
    "train_dir = os.path.join(ROOT_PATH, 'train')\n",
    "os.mkdir(train_dir)\n",
    "val_dir = os.path.join(ROOT_PATH, 'val')\n",
    "os.mkdir(val_dir)\n",
    "test_dir = os.path.join(ROOT_PATH, 'test')\n",
    "os.mkdir(test_dir)"
   ]
  },
  {
   "cell_type": "code",
   "execution_count": null,
   "metadata": {},
   "outputs": [],
   "source": [
    "for split in ['train', 'val', 'test']:\n",
    "    if(split == 'train'):\n",
    "        print(\"train\")\n",
    "        df = train_df\n",
    "    elif(split == 'val'):\n",
    "        print(\"val\")\n",
    "        df = val_df\n",
    "    else:\n",
    "        print(\"test\")\n",
    "        df = test_df\n",
    "    \n",
    "    for i in range(len(df)):\n",
    "        label = df['label'][i]\n",
    "        img = df['img_path'][i]\n",
    "\n",
    "        os.makedirs(os.path.join(ROOT_PATH, split, label), exist_ok=True)\n",
    "\n",
    "        # Copy the image\n",
    "        print(\"Moving files\")\n",
    "        shutil.copy(img, os.path.join(ROOT_PATH, split, label))"
   ]
  },
  {
   "cell_type": "code",
   "execution_count": null,
   "metadata": {},
   "outputs": [],
   "source": []
  }
 ],
 "metadata": {
  "kernelspec": {
   "display_name": "pytorch",
   "language": "python",
   "name": "python3"
  },
  "language_info": {
   "codemirror_mode": {
    "name": "ipython",
    "version": 3
   },
   "file_extension": ".py",
   "mimetype": "text/x-python",
   "name": "python",
   "nbconvert_exporter": "python",
   "pygments_lexer": "ipython3",
   "version": "3.10.4"
  },
  "orig_nbformat": 4
 },
 "nbformat": 4,
 "nbformat_minor": 2
}
